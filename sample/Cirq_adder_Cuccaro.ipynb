{
 "cells": [
  {
   "cell_type": "code",
   "execution_count": 21,
   "metadata": {},
   "outputs": [],
   "source": [
    "import cirq\n",
    "from cirq.ops import CCX, CX, H, X \n",
    "\n",
    "def bitstring(bits):\n",
    "    return ''.join(str(int(b)) for b in bits)"
   ]
  },
  {
   "cell_type": "code",
   "execution_count": 10,
   "metadata": {},
   "outputs": [
    {
     "name": "stdout",
     "output_type": "stream",
     "text": [
      "Primer sumando en binario (4 bits)0001\n",
      "Segundo sumando en binario(4 bits)0001\n"
     ]
    }
   ],
   "source": [
    "sumando_1 = input(\"Primer sumando en binario (4 bits)\")\n",
    "sumando_2 = input(\"Segundo sumando en binario(4 bits)\")"
   ]
  },
  {
   "cell_type": "code",
   "execution_count": 22,
   "metadata": {},
   "outputs": [
    {
     "name": "stdout",
     "output_type": "stream",
     "text": [
      "[cirq.GridQubit(0, 0), cirq.GridQubit(1, 0), cirq.GridQubit(2, 0)]\n",
      "Circuit:\n",
      "           ┌────┐   ┌────┐   ┌────┐   ┌──┐                   ┌──┐               ┌──┐\n",
      "(0, 0): ────X────────@────────@────────@───────────────────────────────────────────────@───@───────@────────────\n",
      "                     │        │        │                                               │   │       │\n",
      "(0, 1): ─────@───────┼@───────┼@───────┼────────────────────────────@───@────────@─────┼───┼───────┼────────────\n",
      "             │       ││       ││       │                            │   │        │     │   │       │\n",
      "(0, 2): ─────┼@──────┼┼@──────┼┼@──────┼─────────@───@────────@─────┼───┼────────┼─────┼───┼───────┼────────────\n",
      "             ││      │││      │││      │         │   │        │     │   │        │     │   │       │\n",
      "(0, 3): ─────┼┼@─────┼┼┼@─────┼┼┼@─────┼─────────┼───┼────────┼─────┼───┼────────┼─────┼───┼───────┼────────────\n",
      "             │││     ││││     ││││     │         │   │        │     │   │        │     │   │       │\n",
      "(1, 0): ────X┼┼┼─────@┼┼┼─────X┼┼┼─────@─────────┼───┼────────┼─────┼───┼────────┼@────X───@───X───X───M('m')───\n",
      "             │││     ││││      │││     │         │   │        │     │   │        ││        │   │       │\n",
      "(1, 1): ─────@┼┼─────┼X┼┼──────@┼┼─────┼─────────┼───┼────────┼@────X───@───X────X┼────────┼───┼───────M────────\n",
      "             │││     │ ││      │││     │         │   │        ││        │   │     │        │   │       │\n",
      "(1, 2): ─────┼@┼─────┼─X┼──────┼@┼─────┼─────@───X───@───X────X┼────────┼───┼─────┼────────┼───┼───────M────────\n",
      "             │││     │  │      │││     │     │       │   │     │        │   │     │        │   │       │\n",
      "(1, 3): ─────┼┼@─────┼──X──────┼┼@─────┼X────┼───────┼───┼─────┼────────┼───┼─────┼────────┼───┼───────M────────\n",
      "             │││     │         │││     ││    │       │   │     │        │   │     │        │   │       │\n",
      "(1, 4): ─────┼┼X─────┼─────────┼┼X─────┼┼────┼───────┼───┼─────┼────────┼───┼─────┼────────┼───┼───────M────────\n",
      "             ││      │         ││      ││    │       │   │     │        │   │     │        │   │\n",
      "(2, 0): ─────┼┼──────┼─────────┼┼──────┼┼────┼───────┼───┼─────┼────────┼───┼─────@────────┼───@────────────────\n",
      "             ││      │         ││      ││    │       │   │     │        │   │     │        │\n",
      "(2, 1): ─────┼┼──────X─────────┼┼──────X┼────┼───────┼───┼─────@────────┼───@─────X────────X────────────────────\n",
      "             ││                ││       │    │       │   │     │        │\n",
      "(2, 2): ─────X┼────────────────X┼───────┼────@───────┼───@─────X────────X───────────────────────────────────────\n",
      "              │                 │       │    │       │\n",
      "(2, 3): ──────X─────────────────X───────@────X───────X──────────────────────────────────────────────────────────\n",
      "           └────┘   └────┘   └────┘   └──┘                   └──┘               └──┘\n",
      "Results:\n",
      "m=00000000000000000000, 11111111111111111111, 00000000000000000000, 00000000000000000000, 00000000000000000000\n",
      "Sampled results:\n",
      "Counter({'01000': 20})\n"
     ]
    }
   ],
   "source": [
    "n = 4\n",
    "\n",
    "a = [cirq.GridQubit(0, i) for i in range(n)]\n",
    "b = [cirq.GridQubit(1, i) for i in range(n+1)]\n",
    "c = [cirq.GridQubit(2, i) for i in range(n)]\n",
    "\n",
    "print(qubits)\n",
    "\n",
    "# Create a circuit\n",
    "circuit = cirq.Circuit()\n",
    "\n",
    "for i in range(n):\n",
    "    if sumando_1[i] == \"1\":\n",
    "        circuit.append(X(a[n - (i+1)]))\n",
    "for i in range(n):\n",
    "    if sumando_2[i] == \"1\":\n",
    "        circuit.append(X(b[n - (i+1)]))\n",
    "\n",
    "for i in range(1, n):\n",
    "    circuit.append(CX(a[i], b[i]))\n",
    "\n",
    "circuit.append(CX(a[1], c[0]))\n",
    "\n",
    "circuit.append(CCX(a[0], b[0], c[0]))\n",
    "circuit.append(CX(a[2], a[1]))\n",
    "\n",
    "circuit.append(CCX(c[0], b[1], a[1]))\n",
    "circuit.append(CX(a[3], a[2]))\n",
    "\n",
    "for i in range(2, n-2):\n",
    "    circuit.append(CCX(a[i-1], b[i], a[i]))\n",
    "    circuit.append(CX(a[i+2], a[i+1]))\n",
    "\n",
    "circuit.append(CCX(a[n-3], b[n-2], a[n-2]))\n",
    "circuit.append(CX(a[n-1], b[n]))\n",
    "\n",
    "circuit.append(CCX(a[n-2], b[n-1], b[n]))\n",
    "for i in range(1, n-1):\n",
    "    circuit.append(X(b[i]))\n",
    "\n",
    "circuit.append(CX(c[0], b[1]))\n",
    "for i in range(2, n):\n",
    "    circuit.append(CX(a[i-1], b[i]))\n",
    "\n",
    "circuit.append(CCX(a[n-3], b[n-2], a[n-2]))\n",
    "\n",
    "for i in range(n-3,1,-1):\n",
    "    circuit.append(CCX(a[i-1], b[i], a[i]))\n",
    "    circuit.append(CX(a[i+2], a[i+1]))\n",
    "    circuit.append(X(b[i+1]))\n",
    "\n",
    "circuit.append(CCX(c[0], b[1], a[1]))\n",
    "circuit.append(CX(a[3], a[2]))\n",
    "circuit.append(X(b[2]))\n",
    "\n",
    "circuit.append(CCX(a[0], b[0], c[0]))\n",
    "circuit.append(CX(a[2], a[1]))\n",
    "circuit.append(X(b[1]))\n",
    "\n",
    "circuit.append(CX(a[1], c[0]))\n",
    "\n",
    "for i in range(n):\n",
    "    circuit.append(CX(a[i], b[i]))       \n",
    "\n",
    "circuit.append(cirq.measure(*b, key='m'))  # Measurement.\n",
    "print(\"Circuit:\")\n",
    "print(circuit)\n",
    "\n",
    "\n",
    "# Simulate the circuit several times.\n",
    "simulator = cirq.Simulator()\n",
    "result = simulator.run(circuit, repetitions=20)\n",
    "print(\"Results:\")\n",
    "print(result)\n",
    "\n",
    "frequencies = result.histogram(key='m', fold_func=bitstring)\n",
    "print('Sampled results:\\n{}'.format(frequencies))"
   ]
  },
  {
   "cell_type": "code",
   "execution_count": null,
   "metadata": {},
   "outputs": [],
   "source": []
  }
 ],
 "metadata": {
  "kernelspec": {
   "display_name": "Python 3",
   "language": "python",
   "name": "python3"
  },
  "language_info": {
   "codemirror_mode": {
    "name": "ipython",
    "version": 3
   },
   "file_extension": ".py",
   "mimetype": "text/x-python",
   "name": "python",
   "nbconvert_exporter": "python",
   "pygments_lexer": "ipython3",
   "version": "3.7.4"
  }
 },
 "nbformat": 4,
 "nbformat_minor": 4
}